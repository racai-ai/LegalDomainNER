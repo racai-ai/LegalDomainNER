{
 "cells": [
  {
   "cell_type": "code",
   "execution_count": 1,
   "id": "c70082c3-56cf-4bef-bacb-d3f361d99d2e",
   "metadata": {},
   "outputs": [],
   "source": [
    "# citire cuvinte cheie\n",
    "f=open(\"file.txt\",\"r\",encoding=\"utf-8\")\n",
    "index=0\n",
    "types=[]\n",
    "en_dictionary={}\n",
    "position={}\n",
    "for x in f:\n",
    "    sentence=x.split()\n",
    "    types.append(sentence[0].lower())\n",
    "    en_dictionary[sentence[0].lower()]=sentence[1]\n",
    "    position[sentence[0].lower()]=index\n",
    "    index=index+1"
   ]
  },
  {
   "cell_type": "code",
   "execution_count": 2,
   "id": "1769d639-b1ae-42a4-ada8-ea323b223c17",
   "metadata": {},
   "outputs": [],
   "source": [
    "import numpy as np\n",
    "def levenstein_distance(string1,string2):\n",
    "    a=len(string1)\n",
    "    b=len(string2)\n",
    "    matrix=np.zeros((a+1,b+1))\n",
    "    for i in range(0,a):\n",
    "        for j in range(0,b):\n",
    "            if string1[i] == string2[j]:\n",
    "                matrix[i+1][j+1]=matrix[i][j]+1\n",
    "            if string1[i] != string2[j]:\n",
    "                matrix[i+1][j+1]=max(matrix[i][j+1],matrix[i+1][j])\n",
    "    return 2*matrix[a][b]/(a+b)"
   ]
  },
  {
   "cell_type": "code",
   "execution_count": null,
   "id": "25498b35-d9d1-4fe7-9890-81243418a03e",
   "metadata": {},
   "outputs": [],
   "source": []
  },
  {
   "cell_type": "code",
   "execution_count": 3,
   "id": "dd6dba56-f690-440c-a60a-a43823445473",
   "metadata": {},
   "outputs": [],
   "source": [
    "from collections import defaultdict\n",
    "class Graph:\n",
    "    def __init__(self, V):\n",
    "        self.graph=defaultdict(list)\n",
    "        self.vertices=V\n",
    "    def addEdge(self,u,v):\n",
    "        self.graph[u].append(v)\n",
    "    def TopologicalSortV(self,vertex,visited,stack):\n",
    "        visited[vertex]=True\n",
    "        for adjacent in self.graph[vertex]:\n",
    "            if visited[adjacent] == False:\n",
    "                self.TopologicalSortV(adjacent,visited,stack)\n",
    "        stack.append(vertex)\n",
    "    def TopologicalSort(self):\n",
    "        visited=[False]*(self.vertices+1)\n",
    "        stack=[]\n",
    "        for vertex in range(0,self.vertices):\n",
    "            if visited[vertex] == False:\n",
    "                self.TopologicalSortV(vertex,visited,stack)\n",
    "        return stack  "
   ]
  },
  {
   "cell_type": "code",
   "execution_count": 4,
   "id": "a22042c2-dc30-46e9-9a47-8b26851da9f3",
   "metadata": {},
   "outputs": [],
   "source": [
    "#citire relatii(muchii) graf\n",
    "graph=Graph(index)\n",
    "g=open(\"file1.txt\",\"r\",encoding=\"utf-8\")\n",
    "for line in g:\n",
    "    sentence=line.split()\n",
    "    sentence[0]=sentence[0].lower()\n",
    "    sentence[1]=sentence[1].lower()\n",
    "    graph.addEdge(position[sentence[0]],position[sentence[1]])\n",
    "rank=graph.TopologicalSort()\n",
    "rank_top={}\n",
    "for i in range(0,index):\n",
    "    rank_top[rank[i]]=i"
   ]
  },
  {
   "cell_type": "code",
   "execution_count": 5,
   "id": "0e6fda04-b9f4-44ed-8e6d-249f89f3add2",
   "metadata": {},
   "outputs": [],
   "source": [
    "def choose_type(string):\n",
    "    sentence=string.split()\n",
    "    type_of_annotation=\"\"\n",
    "    val_max=-1\n",
    "    for word in sentence:\n",
    "        if(rank_top[position[word.lower()]] > val_max):\n",
    "            val_max=rank_top[position[word.lower()]]\n",
    "            type_of_annotation=word.lower()\n",
    "    return type_of_annotation"
   ]
  },
  {
   "cell_type": "code",
   "execution_count": 17,
   "id": "9b4adc59-c867-484b-8079-ac15d0ada910",
   "metadata": {},
   "outputs": [],
   "source": [
    "import regex as re\n",
    "def answer(string):\n",
    "    const=0.82\n",
    "    string=string.lower()\n",
    "    string = re.sub(r'[0123456789]', '', string)\n",
    "    string=string.replace('/',' ')\n",
    "    string=string.replace('(',' ')\n",
    "    string=string.replace(')',' ')\n",
    "    string=string.replace(',',' ')\n",
    "    string=string.replace('-',' ')\n",
    "    string=string.replace('.',' ')\n",
    "    string=re.sub(' +', ' ', string)#elimina double space\n",
    "    list_words=string.split()\n",
    "    new_list=[]\n",
    "    for x in list_words:\n",
    "     if x in allwords:\n",
    "      word=lemma[x]\n",
    "      for new_word in types:\n",
    "            if levenstein_distance(new_word,word) > const:\n",
    "                new_list.append(new_word)\n",
    "                break\n",
    "    new_string=' '.join(new_list)\n",
    "    return choose_type(new_string)"
   ]
  },
  {
   "cell_type": "code",
   "execution_count": 18,
   "id": "02007917-0c5a-4f93-a499-d83899805146",
   "metadata": {},
   "outputs": [
    {
     "data": {
      "text/plain": [
       "'decret'"
      ]
     },
     "execution_count": 18,
     "metadata": {},
     "output_type": "execute_result"
    }
   ],
   "source": [
    "answer(\"Decretul-lege nr. 118 / 1990\")"
   ]
  },
  {
   "cell_type": "code",
   "execution_count": 19,
   "id": "99ea5436-d0c4-4b62-98d5-2475133a12c7",
   "metadata": {},
   "outputs": [],
   "source": [
    "#preliminary read until it is modified the input\n",
    "import os \n",
    "def read_files_from_folder(path):\n",
    "     files=os.listdir(path)\n",
    "     new_folder=[]\n",
    "     for x in files:\n",
    "        loc=path+'/'+x\n",
    "        new_folder.append(loc)\n",
    "     return new_folder\n",
    "folder=read_files_from_folder(\"C:/Users/moldo/anaconda3/envs/racai/conllup_LEGAL_PER_LOC_ORG_TIME\")\n",
    "lemma={}\n",
    "allwords=[]\n",
    "def read_conllupfiles(path):\n",
    "    f=open(path,\"r\",encoding=\"utf-8\")\n",
    "    for x in f:\n",
    "        if x[0] == '#': \n",
    "            continue\n",
    "        list_of_words=x.split()\n",
    "        if len(list_of_words) == 0:\n",
    "            continue\n",
    "        lemma[list_of_words[1].lower()]=list_of_words[2].lower()\n",
    "        allwords.append(list_of_words[1].lower())\n",
    "for x in folder:\n",
    "    read_conllupfiles(x)\n",
    "allwords.append(\"decretul\")\n",
    "lemma[\"decretul\"]=\"decret\""
   ]
  },
  {
   "cell_type": "code",
   "execution_count": 20,
   "id": "aa98f1ab-839e-46cb-83aa-9b3eb15df4fd",
   "metadata": {},
   "outputs": [
    {
     "name": "stdout",
     "output_type": "stream",
     "text": [
      "3387\n"
     ]
    }
   ],
   "source": [
    "#citire din fisiere ann pentru verificarea algoritmului\n",
    "def space(string):\n",
    "    string1=\"\"\n",
    "    spaces=0\n",
    "    for x in string:\n",
    "        if x == \" \" or x == '\\t':\n",
    "            spaces=spaces+1\n",
    "            if spaces >= 3:\n",
    "                break\n",
    "        if x != \" \" and x != '\\t':\n",
    "            if spaces == 1:\n",
    "                string1=string1+x\n",
    "    return string1\n",
    "def read(path):\n",
    "     f=open(path,\"r\",encoding=\"utf-8\")\n",
    "     list_of_lines=[]\n",
    "     for x in f:\n",
    "         if space(x) == \"LEGAL\":\n",
    "             list_of_lines.append(x)\n",
    "     return list_of_lines\n",
    "list_ann=[]\n",
    "p=open(\"input.txt\",\"r\",encoding=\"utf-8\")\n",
    "lines=[]\n",
    "for x in p:\n",
    "    lines.append(x)\n",
    "for x in lines:\n",
    "    list_ann.append(x[:-1])\n",
    "print(len(list_ann))"
   ]
  },
  {
   "cell_type": "code",
   "execution_count": 21,
   "id": "e5c840ea-c355-4216-87c9-e2eb9862ba62",
   "metadata": {},
   "outputs": [],
   "source": [
    "new_list=[]\n",
    "for x in list_ann:\n",
    "    y=answer(x)\n",
    "    new_list.append(y)"
   ]
  },
  {
   "cell_type": "code",
   "execution_count": 22,
   "id": "cb3d051d-5d0f-4b97-9c4a-cd6fa70d3cb8",
   "metadata": {},
   "outputs": [],
   "source": [
    "import pandas as pd\n",
    "data1 = pd.DataFrame({\"1\":list_ann,\"2\":new_list})\n",
    "data1.to_excel('example.xlsx', sheet_name='sheet1', index=False)"
   ]
  },
  {
   "cell_type": "code",
   "execution_count": 23,
   "id": "8841c449-33e1-43f5-bce3-2b7243f59981",
   "metadata": {},
   "outputs": [],
   "source": [
    "def modificare_cuvant(string):\n",
    "    string=string.replace(\"â\",\"a\")\n",
    "    string=string.replace(\"ă\",\"a\")\n",
    "    string=string.replace(\"ș\",\"s\")\n",
    "    string=string.replace(\"ț\",\"t\")\n",
    "    return string"
   ]
  },
  {
   "cell_type": "code",
   "execution_count": 24,
   "id": "b7471c0d-796b-40a7-a666-50d51b4c66be",
   "metadata": {},
   "outputs": [
    {
     "name": "stdout",
     "output_type": "stream",
     "text": [
      "90\n",
      "Agricultura ecologică din Programul Național de Dezvoltare Rurală 2014-2020\n",
      "program\n",
      "ordinance\n",
      "other\n",
      "112\n",
      "CALENDARULdesfășurării concursului de selecție a cadrelor didactice pentru constituirea corpului național de experți în management educațional, seria a 14-a\n",
      "constituție\n",
      "ordinance\n",
      "law\n",
      "114\n",
      "Carta drepturilor fundamentale\n",
      "\n",
      "other\n",
      "regulation\n",
      "115\n",
      "Carta universitară\n",
      "\n",
      "other\n",
      "regulation\n",
      "116\n",
      "cartea funciară nr. 31614 Iacobeni\n",
      "\n",
      "other\n",
      "regulation\n",
      "117\n",
      "cartea funciară nr. 31614 Iacobeni\n",
      "\n",
      "other\n",
      "regulation\n",
      "132\n",
      "Catalogulnațional al prețurilor medicamentelor autorizate de punere pe piață în România, a prețurilorde referință generice și a prețurilor de referință inovative\n",
      "autorizație\n",
      "publication\n",
      "other\n",
      "135\n",
      "Certificat\n",
      "\n",
      "ordinance\n",
      "regulation\n",
      "136\n",
      "Certificatului de status profesional curent\n",
      "statut\n",
      "ordinance\n",
      "other\n",
      "137\n",
      "Certificatului internațional de conformitate pentru transportul în vrac al produselor chimice periculoase\n",
      "\n",
      "ordinance\n",
      "regulation\n",
      "221\n",
      "COM (2019) 195\n",
      "\n",
      "other\n",
      "regulation\n",
      "459\n",
      "Fundamentării nr. 15.724 din 14.10.2019\n",
      "\n",
      "ordinance\n",
      "regulation\n",
      "460\n",
      "HG nr. 131 / 1991\n",
      "\n",
      "decision\n",
      "regulation\n",
      "461\n",
      "HG nr. 131 / 1991\n",
      "\n",
      "decision\n",
      "regulation\n",
      "1086\n",
      "Jurnalul Oficial al Uniunii Europene\n",
      "\n",
      "ordinance\n",
      "regulation\n",
      "1087\n",
      "Jurnalul Oficial al Uniunii Europene, seria C, nr. 351 din 1 octombrie 2018\n",
      "\n",
      "other\n",
      "regulation\n",
      "1088\n",
      "Jurnalul Oficial al Uniunii Europene, seria L, nr. 305 din 21 noiembrie 2017\n",
      "\n",
      "other\n",
      "regulation\n",
      "1897\n",
      "Medalia Meritul Diplomatic\n",
      "\n",
      "ordinance\n",
      "regulation\n",
      "1898\n",
      "Medalia Meritul Diplomatic\n",
      "\n",
      "ordinance\n",
      "regulation\n",
      "1899\n",
      "Medalia Meritul Diplomatic\n",
      "\n",
      "ordinance\n",
      "regulation\n",
      "1900\n",
      "Medalia Meritul Diplomatic\n",
      "\n",
      "ordinance\n",
      "regulation\n",
      "1928\n",
      "METODOLOGIEprivind eliberarea adeverinței de conformitate a studiilor\n",
      "\n",
      "other\n",
      "regulation\n",
      "1954\n",
      "Normei Autorității de Supraveghere Financiară nr. 11 / 2015\n",
      "\n",
      "norm\n",
      "regulation\n",
      "1955\n",
      "Normei Autorității de Supraveghere Financiară nr. 4 / 2018\n",
      "\n",
      "norm\n",
      "regulation\n",
      "1956\n",
      "Normei de dotare cu mijloace tehnice și bunuri materiale necesare Instituției Prefectului\n",
      "constituție\n",
      "norm\n",
      "law\n",
      "1957\n",
      "Normei de dotare cu mijloace tehnice și bunuri materiale necesare la unele structuri din domeniul administrației publice aflate în subordinea Ministerului Afacerilor Interne\n",
      "\n",
      "norm\n",
      "regulation\n",
      "1958\n",
      "Normei nr. 8 / 2010\n",
      "\n",
      "norm\n",
      "regulation\n",
      "2990\n",
      "Precizările privind întocmirea și actualizarea inventarului centralizat al bunurilor din domeniul public al statului\n",
      "\n",
      "other\n",
      "regulation\n",
      "3002\n",
      "Proces-verbal de recepție finală nr. 6.585 / 20.10.2010\n",
      "\n",
      "other\n",
      "regulation\n",
      "3003\n",
      "Proces-verbal de recepție la terminarea lucrărilor nr. 4.661 / 15.05.2009\n",
      "\n",
      "other\n",
      "regulation\n",
      "3140\n",
      "Reglementărilor contabile pentru persoanele juridice fără scop patrimonial\n",
      "\n",
      "ordinance\n",
      "regulation\n",
      "3320\n",
      "REGULI din 2 decembrie 2019\n",
      "\n",
      "ordinance\n",
      "regulation\n",
      "3369\n",
      "Strategia națională de integrare a romilor\n",
      "\n",
      "ordinance\n",
      "regulation\n",
      "3370\n",
      "TFUE\n",
      "\n",
      "ordinance\n",
      "regulation\n",
      "3353\n"
     ]
    }
   ],
   "source": [
    "#checking the work\n",
    "h=open(\"answer.txt\",\"r\",encoding=\"utf-8\")\n",
    "results=[]\n",
    "for x in h:\n",
    "  results.append(x[:-1].lower())\n",
    "right_answers=0\n",
    "en_dictionary['']=''\n",
    "for i in range(0,3387):\n",
    "    x=modificare_cuvant(results[i])\n",
    "    y=en_dictionary[new_list[i]]\n",
    "    y=y.lower()\n",
    "    if len(x) == 0:\n",
    "        continue\n",
    "    if len(y) == 0:\n",
    "        y=\"regulation\"\n",
    "    if levenstein_distance(x,y) > 0.82:\n",
    "        right_answers=right_answers+1\n",
    "    if levenstein_distance(x,y) < 0.82:\n",
    "            print(i)\n",
    "            print(list_ann[i])\n",
    "            print(new_list[i])\n",
    "            print(x)\n",
    "            print(y)\n",
    "print(right_answers)"
   ]
  },
  {
   "cell_type": "code",
   "execution_count": 25,
   "id": "eee8eb7d-9972-4c03-a8de-9fad52ea7307",
   "metadata": {},
   "outputs": [
    {
     "data": {
      "text/plain": [
       "'Ordinance'"
      ]
     },
     "execution_count": 25,
     "metadata": {},
     "output_type": "execute_result"
    }
   ],
   "source": [
    "en_dictionary[answer(\"nota de fundamentare nr. 240 din 17.07.2019\")]"
   ]
  },
  {
   "cell_type": "code",
   "execution_count": 26,
   "id": "e8adc863-f055-4124-b358-f380fb9f7230",
   "metadata": {},
   "outputs": [
    {
     "data": {
      "text/plain": [
       "''"
      ]
     },
     "execution_count": 26,
     "metadata": {},
     "output_type": "execute_result"
    }
   ],
   "source": [
    "answer(\"Normei nr. 8 / 2010\")"
   ]
  },
  {
   "cell_type": "code",
   "execution_count": null,
   "id": "01546299-a64d-4b30-9ee2-d6755bc3f76c",
   "metadata": {},
   "outputs": [],
   "source": []
  },
  {
   "cell_type": "code",
   "execution_count": 27,
   "id": "73e5640f-c104-445c-9aef-f36648458c6f",
   "metadata": {},
   "outputs": [
    {
     "data": {
      "text/plain": [
       "'adresă'"
      ]
     },
     "execution_count": 27,
     "metadata": {},
     "output_type": "execute_result"
    }
   ],
   "source": [
    "answer(\"Adresa nr. 1.912 din 18.07.2019\")"
   ]
  },
  {
   "cell_type": "code",
   "execution_count": null,
   "id": "0e876cc4-45ee-43f9-a4f0-e177988adf19",
   "metadata": {},
   "outputs": [],
   "source": []
  }
 ],
 "metadata": {
  "kernelspec": {
   "display_name": "Python 3 (ipykernel)",
   "language": "python",
   "name": "python3"
  },
  "language_info": {
   "codemirror_mode": {
    "name": "ipython",
    "version": 3
   },
   "file_extension": ".py",
   "mimetype": "text/x-python",
   "name": "python",
   "nbconvert_exporter": "python",
   "pygments_lexer": "ipython3",
   "version": "3.9.7"
  }
 },
 "nbformat": 4,
 "nbformat_minor": 5
}
